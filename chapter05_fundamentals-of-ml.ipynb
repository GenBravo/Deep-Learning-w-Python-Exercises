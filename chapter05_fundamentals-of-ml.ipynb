{
 "cells": [
  {
   "cell_type": "markdown",
   "metadata": {
    "colab_type": "text"
   },
   "source": [
    "This is a companion notebook for the book [Deep Learning with Python, Second Edition](https://www.manning.com/books/deep-learning-with-python-second-edition?a_aid=keras&a_bid=76564dff). For readability, it only contains runnable code blocks and section titles, and omits everything else in the book: text paragraphs, figures, and pseudocode.\n",
    "\n",
    "**If you want to be able to follow what's going on, I recommend reading the notebook side by side with your copy of the book.**\n",
    "\n",
    "This notebook was generated for TensorFlow 2.6."
   ]
  },
  {
   "cell_type": "markdown",
   "metadata": {
    "colab_type": "text"
   },
   "source": [
    "# Fundamentals of machine learning"
   ]
  },
  {
   "cell_type": "markdown",
   "metadata": {
    "colab_type": "text"
   },
   "source": [
    "## Generalization: The goal of machine learning"
   ]
  },
  {
   "cell_type": "markdown",
   "metadata": {
    "colab_type": "text"
   },
   "source": [
    "### Underfitting and overfitting"
   ]
  },
  {
   "cell_type": "markdown",
   "metadata": {
    "colab_type": "text"
   },
   "source": [
    "#### Noisy training data"
   ]
  },
  {
   "cell_type": "markdown",
   "metadata": {
    "colab_type": "text"
   },
   "source": [
    "#### Ambiguous features"
   ]
  },
  {
   "cell_type": "markdown",
   "metadata": {
    "colab_type": "text"
   },
   "source": [
    "#### Rare features and spurious correlations"
   ]
  },
  {
   "cell_type": "markdown",
   "metadata": {
    "colab_type": "text"
   },
   "source": [
    "**Adding white-noise channels or all-zeros channels to MNIST**"
   ]
  },
  {
   "cell_type": "code",
   "execution_count": 1,
   "metadata": {
    "colab_type": "code"
   },
   "outputs": [
    {
     "name": "stdout",
     "output_type": "stream",
     "text": [
      "Downloading data from https://storage.googleapis.com/tensorflow/tf-keras-datasets/mnist.npz\n",
      "11490434/11490434 [==============================] - 2s 0us/step\n"
     ]
    }
   ],
   "source": [
    "from tensorflow.keras.datasets import mnist\n",
    "import numpy as np\n",
    "\n",
    "(train_images, train_labels), _ = mnist.load_data()\n",
    "train_images = train_images.reshape((60000, 28 * 28))\n",
    "train_images = train_images.astype(\"float32\") / 255\n",
    "\n",
    "train_images_with_noise_channels = np.concatenate(\n",
    "    [train_images, np.random.random((len(train_images), 784))], axis=1)\n",
    "\n",
    "train_images_with_zeros_channels = np.concatenate(\n",
    "    [train_images, np.zeros((len(train_images), 784))], axis=1)"
   ]
  },
  {
   "cell_type": "markdown",
   "metadata": {
    "colab_type": "text"
   },
   "source": [
    "**Training the same model on MNIST data with noise channels or all-zero channels**"
   ]
  },
  {
   "cell_type": "code",
   "execution_count": 2,
   "metadata": {
    "colab_type": "code"
   },
   "outputs": [
    {
     "name": "stdout",
     "output_type": "stream",
     "text": [
      "Epoch 1/10\n",
      "375/375 [==============================] - 4s 10ms/step - loss: 0.6290 - accuracy: 0.8126 - val_loss: 0.3007 - val_accuracy: 0.9042\n",
      "Epoch 2/10\n",
      "375/375 [==============================] - 3s 9ms/step - loss: 0.2538 - accuracy: 0.9211 - val_loss: 0.2014 - val_accuracy: 0.9380\n",
      "Epoch 3/10\n",
      "375/375 [==============================] - 3s 9ms/step - loss: 0.1637 - accuracy: 0.9481 - val_loss: 0.1545 - val_accuracy: 0.9531\n",
      "Epoch 4/10\n",
      "375/375 [==============================] - 3s 9ms/step - loss: 0.1180 - accuracy: 0.9629 - val_loss: 0.1540 - val_accuracy: 0.9551\n",
      "Epoch 5/10\n",
      "375/375 [==============================] - 3s 9ms/step - loss: 0.0869 - accuracy: 0.9721 - val_loss: 0.1397 - val_accuracy: 0.9587\n",
      "Epoch 6/10\n",
      "375/375 [==============================] - 3s 9ms/step - loss: 0.0649 - accuracy: 0.9791 - val_loss: 0.1263 - val_accuracy: 0.9638\n",
      "Epoch 7/10\n",
      "375/375 [==============================] - 3s 9ms/step - loss: 0.0487 - accuracy: 0.9841 - val_loss: 0.1369 - val_accuracy: 0.9603\n",
      "Epoch 8/10\n",
      "375/375 [==============================] - 3s 9ms/step - loss: 0.0356 - accuracy: 0.9888 - val_loss: 0.1470 - val_accuracy: 0.9575\n",
      "Epoch 9/10\n",
      "375/375 [==============================] - 3s 9ms/step - loss: 0.0266 - accuracy: 0.9917 - val_loss: 0.1550 - val_accuracy: 0.9592\n",
      "Epoch 10/10\n",
      "375/375 [==============================] - 3s 9ms/step - loss: 0.0189 - accuracy: 0.9943 - val_loss: 0.1247 - val_accuracy: 0.9679\n",
      "Epoch 1/10\n",
      "375/375 [==============================] - 4s 9ms/step - loss: 0.2973 - accuracy: 0.9136 - val_loss: 0.1775 - val_accuracy: 0.9443\n",
      "Epoch 2/10\n",
      "375/375 [==============================] - 3s 9ms/step - loss: 0.1249 - accuracy: 0.9629 - val_loss: 0.1085 - val_accuracy: 0.9672\n",
      "Epoch 3/10\n",
      "375/375 [==============================] - 3s 9ms/step - loss: 0.0819 - accuracy: 0.9766 - val_loss: 0.0883 - val_accuracy: 0.9725\n",
      "Epoch 4/10\n",
      "375/375 [==============================] - 3s 9ms/step - loss: 0.0591 - accuracy: 0.9828 - val_loss: 0.0883 - val_accuracy: 0.9728\n",
      "Epoch 5/10\n",
      "375/375 [==============================] - 3s 9ms/step - loss: 0.0440 - accuracy: 0.9874 - val_loss: 0.0738 - val_accuracy: 0.9787\n",
      "Epoch 6/10\n",
      "375/375 [==============================] - 3s 9ms/step - loss: 0.0330 - accuracy: 0.9902 - val_loss: 0.0735 - val_accuracy: 0.9794\n",
      "Epoch 7/10\n",
      "375/375 [==============================] - 3s 9ms/step - loss: 0.0253 - accuracy: 0.9927 - val_loss: 0.0898 - val_accuracy: 0.9738\n",
      "Epoch 8/10\n",
      "375/375 [==============================] - 3s 9ms/step - loss: 0.0191 - accuracy: 0.9950 - val_loss: 0.0756 - val_accuracy: 0.9800\n",
      "Epoch 9/10\n",
      "375/375 [==============================] - 3s 9ms/step - loss: 0.0143 - accuracy: 0.9962 - val_loss: 0.0761 - val_accuracy: 0.9795\n",
      "Epoch 10/10\n",
      "375/375 [==============================] - 3s 9ms/step - loss: 0.0107 - accuracy: 0.9974 - val_loss: 0.0718 - val_accuracy: 0.9802\n"
     ]
    }
   ],
   "source": [
    "from tensorflow import keras\n",
    "from tensorflow.keras import layers\n",
    "\n",
    "def get_model():\n",
    "    model = keras.Sequential([\n",
    "        layers.Dense(512, activation=\"relu\"),\n",
    "        layers.Dense(10, activation=\"softmax\")\n",
    "    ])\n",
    "    model.compile(optimizer=\"rmsprop\",\n",
    "                  loss=\"sparse_categorical_crossentropy\",\n",
    "                  metrics=[\"accuracy\"])\n",
    "    return model\n",
    "\n",
    "model = get_model()\n",
    "history_noise = model.fit(\n",
    "    train_images_with_noise_channels, train_labels,\n",
    "    epochs=10,\n",
    "    batch_size=128,\n",
    "    validation_split=0.2)\n",
    "\n",
    "model = get_model()\n",
    "history_zeros = model.fit(\n",
    "    train_images_with_zeros_channels, train_labels,\n",
    "    epochs=10,\n",
    "    batch_size=128,\n",
    "    validation_split=0.2)"
   ]
  },
  {
   "cell_type": "markdown",
   "metadata": {
    "colab_type": "text"
   },
   "source": [
    "**Plotting a validation accuracy comparison**"
   ]
  },
  {
   "cell_type": "code",
   "execution_count": 3,
   "metadata": {
    "colab_type": "code"
   },
   "outputs": [
    {
     "data": {
      "text/plain": [
       "<matplotlib.legend.Legend at 0x2ca8abefc10>"
      ]
     },
     "execution_count": 3,
     "metadata": {},
     "output_type": "execute_result"
    },
    {
     "data": {
      "image/png": "[encoded data removed]",
      "text/plain": [
       "<Figure size 640x480 with 1 Axes>"
      ]
     },
     "metadata": {},
     "output_type": "display_data"
    }
   ],
   "source": [
    "import matplotlib.pyplot as plt\n",
    "val_acc_noise = history_noise.history[\"val_accuracy\"]\n",
    "val_acc_zeros = history_zeros.history[\"val_accuracy\"]\n",
    "epochs = range(1, 11)\n",
    "plt.plot(epochs, val_acc_noise, \"b-\",\n",
    "         label=\"Validation accuracy with noise channels\")\n",
    "plt.plot(epochs, val_acc_zeros, \"b--\",\n",
    "         label=\"Validation accuracy with zeros channels\")\n",
    "plt.title(\"Effect of noise channels on validation accuracy\")\n",
    "plt.xlabel(\"Epochs\")\n",
    "plt.ylabel(\"Accuracy\")\n",
    "plt.legend()"
   ]
  },
  {
   "cell_type": "markdown",
   "metadata": {
    "colab_type": "text"
   },
   "source": [
    "### The nature of generalization in deep learning"
   ]
  },
  {
   "cell_type": "markdown",
   "metadata": {
    "colab_type": "text"
   },
   "source": [
    "**Fitting a MNIST model with randomly shuffled labels**"
   ]
  },
  {
   "cell_type": "code",
   "execution_count": 4,
   "metadata": {
    "colab_type": "code"
   },
   "outputs": [
    {
     "name": "stdout",
     "output_type": "stream",
     "text": [
      "Epoch 1/100\n",
      "375/375 [==============================] - 3s 6ms/step - loss: 2.3150 - accuracy: 0.1037 - val_loss: 2.3080 - val_accuracy: 0.0978\n",
      "Epoch 2/100\n",
      "375/375 [==============================] - 2s 6ms/step - loss: 2.2991 - accuracy: 0.1165 - val_loss: 2.3130 - val_accuracy: 0.0950\n",
      "Epoch 3/100\n",
      "375/375 [==============================] - 2s 6ms/step - loss: 2.2922 - accuracy: 0.1284 - val_loss: 2.3160 - val_accuracy: 0.1007\n",
      "Epoch 4/100\n",
      "375/375 [==============================] - 2s 6ms/step - loss: 2.2809 - accuracy: 0.1372 - val_loss: 2.3268 - val_accuracy: 0.1003\n",
      "Epoch 5/100\n",
      "375/375 [==============================] - 2s 6ms/step - loss: 2.2662 - accuracy: 0.1515 - val_loss: 2.3315 - val_accuracy: 0.1000\n",
      "Epoch 6/100\n",
      "375/375 [==============================] - 2s 6ms/step - loss: 2.2482 - accuracy: 0.1605 - val_loss: 2.3492 - val_accuracy: 0.1005\n",
      "Epoch 7/100\n",
      "375/375 [==============================] - 2s 6ms/step - loss: 2.2255 - accuracy: 0.1771 - val_loss: 2.3639 - val_accuracy: 0.1023\n",
      "Epoch 8/100\n",
      "375/375 [==============================] - 2s 6ms/step - loss: 2.2005 - accuracy: 0.1935 - val_loss: 2.3786 - val_accuracy: 0.0971\n",
      "Epoch 9/100\n",
      "375/375 [==============================] - 2s 6ms/step - loss: 2.1724 - accuracy: 0.2080 - val_loss: 2.3967 - val_accuracy: 0.0976\n",
      "Epoch 10/100\n",
      "375/375 [==============================] - 2s 6ms/step - loss: 2.1401 - accuracy: 0.2242 - val_loss: 2.4108 - val_accuracy: 0.1040\n",
      "Epoch 11/100\n",
      "375/375 [==============================] - 2s 6ms/step - loss: 2.1068 - accuracy: 0.2411 - val_loss: 2.4539 - val_accuracy: 0.0988\n",
      "Epoch 12/100\n",
      "375/375 [==============================] - 2s 6ms/step - loss: 2.0722 - accuracy: 0.2582 - val_loss: 2.4682 - val_accuracy: 0.1029\n",
      "Epoch 13/100\n",
      "375/375 [==============================] - 2s 6ms/step - loss: 2.0370 - accuracy: 0.2733 - val_loss: 2.4976 - val_accuracy: 0.0983\n",
      "Epoch 14/100\n",
      "375/375 [==============================] - 2s 6ms/step - loss: 1.9974 - accuracy: 0.2913 - val_loss: 2.5376 - val_accuracy: 0.0946\n",
      "Epoch 15/100\n",
      "375/375 [==============================] - 2s 6ms/step - loss: 1.9582 - accuracy: 0.3081 - val_loss: 2.5628 - val_accuracy: 0.1027\n",
      "Epoch 16/100\n",
      "375/375 [==============================] - 2s 6ms/step - loss: 1.9214 - accuracy: 0.3224 - val_loss: 2.5829 - val_accuracy: 0.1018\n",
      "Epoch 17/100\n",
      "375/375 [==============================] - 2s 6ms/step - loss: 1.8805 - accuracy: 0.3398 - val_loss: 2.6329 - val_accuracy: 0.1020\n",
      "Epoch 18/100\n",
      "375/375 [==============================] - 2s 6ms/step - loss: 1.8411 - accuracy: 0.3553 - val_loss: 2.6613 - val_accuracy: 0.0999\n",
      "Epoch 19/100\n",
      "375/375 [==============================] - 2s 6ms/step - loss: 1.8029 - accuracy: 0.3704 - val_loss: 2.7152 - val_accuracy: 0.0994\n",
      "Epoch 20/100\n",
      "375/375 [==============================] - 2s 6ms/step - loss: 1.7650 - accuracy: 0.3866 - val_loss: 2.7467 - val_accuracy: 0.0982\n",
      "Epoch 21/100\n",
      "375/375 [==============================] - 2s 6ms/step - loss: 1.7249 - accuracy: 0.4025 - val_loss: 2.7770 - val_accuracy: 0.1013\n",
      "Epoch 22/100\n",
      "375/375 [==============================] - 2s 6ms/step - loss: 1.6892 - accuracy: 0.4139 - val_loss: 2.8357 - val_accuracy: 0.1013\n",
      "Epoch 23/100\n",
      "375/375 [==============================] - 2s 6ms/step - loss: 1.6526 - accuracy: 0.4300 - val_loss: 2.8809 - val_accuracy: 0.0990\n",
      "Epoch 24/100\n",
      "375/375 [==============================] - 2s 6ms/step - loss: 1.6177 - accuracy: 0.4419 - val_loss: 2.9284 - val_accuracy: 0.1062\n",
      "Epoch 25/100\n",
      "375/375 [==============================] - 2s 6ms/step - loss: 1.5820 - accuracy: 0.4554 - val_loss: 2.9621 - val_accuracy: 0.1007\n",
      "Epoch 26/100\n",
      "375/375 [==============================] - 2s 6ms/step - loss: 1.5447 - accuracy: 0.4706 - val_loss: 3.0141 - val_accuracy: 0.1032\n",
      "Epoch 27/100\n",
      "375/375 [==============================] - 2s 6ms/step - loss: 1.5106 - accuracy: 0.4828 - val_loss: 3.0586 - val_accuracy: 0.1008\n",
      "Epoch 28/100\n",
      "375/375 [==============================] - 2s 6ms/step - loss: 1.4780 - accuracy: 0.4976 - val_loss: 3.1144 - val_accuracy: 0.1003\n",
      "Epoch 29/100\n",
      "375/375 [==============================] - 2s 6ms/step - loss: 1.4455 - accuracy: 0.5078 - val_loss: 3.1786 - val_accuracy: 0.1015\n",
      "Epoch 30/100\n",
      "375/375 [==============================] - 2s 6ms/step - loss: 1.4137 - accuracy: 0.5215 - val_loss: 3.2169 - val_accuracy: 0.1013\n",
      "Epoch 31/100\n",
      "375/375 [==============================] - 2s 6ms/step - loss: 1.3846 - accuracy: 0.5283 - val_loss: 3.2529 - val_accuracy: 0.1026\n",
      "Epoch 32/100\n",
      "375/375 [==============================] - 2s 6ms/step - loss: 1.3536 - accuracy: 0.5397 - val_loss: 3.3584 - val_accuracy: 0.1000\n",
      "Epoch 33/100\n",
      "375/375 [==============================] - 2s 6ms/step - loss: 1.3239 - accuracy: 0.5540 - val_loss: 3.3617 - val_accuracy: 0.0999\n",
      "Epoch 34/100\n",
      "375/375 [==============================] - 2s 6ms/step - loss: 1.2953 - accuracy: 0.5630 - val_loss: 3.4551 - val_accuracy: 0.1012\n",
      "Epoch 35/100\n",
      "375/375 [==============================] - 2s 6ms/step - loss: 1.2683 - accuracy: 0.5739 - val_loss: 3.4686 - val_accuracy: 0.1008\n",
      "Epoch 36/100\n",
      "375/375 [==============================] - 2s 6ms/step - loss: 1.2410 - accuracy: 0.5832 - val_loss: 3.5359 - val_accuracy: 0.1007\n",
      "Epoch 37/100\n",
      "375/375 [==============================] - 2s 6ms/step - loss: 1.2137 - accuracy: 0.5923 - val_loss: 3.6227 - val_accuracy: 0.1024\n",
      "Epoch 38/100\n",
      "375/375 [==============================] - 2s 6ms/step - loss: 1.1883 - accuracy: 0.5991 - val_loss: 3.7161 - val_accuracy: 0.0988\n",
      "Epoch 39/100\n",
      "375/375 [==============================] - 2s 6ms/step - loss: 1.1637 - accuracy: 0.6095 - val_loss: 3.7191 - val_accuracy: 0.1028\n",
      "Epoch 40/100\n",
      "375/375 [==============================] - 2s 6ms/step - loss: 1.1398 - accuracy: 0.6214 - val_loss: 3.7681 - val_accuracy: 0.1020\n",
      "Epoch 41/100\n",
      "375/375 [==============================] - 2s 6ms/step - loss: 1.1159 - accuracy: 0.6290 - val_loss: 3.8369 - val_accuracy: 0.0992\n",
      "Epoch 42/100\n",
      "375/375 [==============================] - 2s 6ms/step - loss: 1.0885 - accuracy: 0.6397 - val_loss: 3.9194 - val_accuracy: 0.0972\n",
      "Epoch 43/100\n",
      "375/375 [==============================] - 2s 6ms/step - loss: 1.0685 - accuracy: 0.6432 - val_loss: 3.9433 - val_accuracy: 0.0989\n",
      "Epoch 44/100\n",
      "375/375 [==============================] - 2s 6ms/step - loss: 1.0449 - accuracy: 0.6539 - val_loss: 4.0328 - val_accuracy: 0.0972\n",
      "Epoch 45/100\n",
      "375/375 [==============================] - 2s 6ms/step - loss: 1.0245 - accuracy: 0.6591 - val_loss: 4.0554 - val_accuracy: 0.0984\n",
      "Epoch 46/100\n",
      "375/375 [==============================] - 2s 6ms/step - loss: 1.0040 - accuracy: 0.6681 - val_loss: 4.1083 - val_accuracy: 0.0983\n",
      "Epoch 47/100\n",
      "375/375 [==============================] - 2s 6ms/step - loss: 0.9827 - accuracy: 0.6745 - val_loss: 4.2197 - val_accuracy: 0.0994\n",
      "Epoch 48/100\n",
      "375/375 [==============================] - 2s 6ms/step - loss: 0.9631 - accuracy: 0.6818 - val_loss: 4.2726 - val_accuracy: 0.0975\n",
      "Epoch 49/100\n",
      "375/375 [==============================] - 2s 6ms/step - loss: 0.9398 - accuracy: 0.6908 - val_loss: 4.3369 - val_accuracy: 0.1004\n",
      "Epoch 50/100\n",
      "375/375 [==============================] - 2s 6ms/step - loss: 0.9191 - accuracy: 0.6993 - val_loss: 4.4073 - val_accuracy: 0.1008\n",
      "Epoch 51/100\n",
      "375/375 [==============================] - 2s 6ms/step - loss: 0.9016 - accuracy: 0.7051 - val_loss: 4.4691 - val_accuracy: 0.0986\n",
      "Epoch 52/100\n",
      "375/375 [==============================] - 2s 6ms/step - loss: 0.8849 - accuracy: 0.7083 - val_loss: 4.5508 - val_accuracy: 0.0993\n",
      "Epoch 53/100\n",
      "375/375 [==============================] - 2s 6ms/step - loss: 0.8645 - accuracy: 0.7166 - val_loss: 4.5858 - val_accuracy: 0.0995\n",
      "Epoch 54/100\n",
      "375/375 [==============================] - 2s 6ms/step - loss: 0.8485 - accuracy: 0.7230 - val_loss: 4.6625 - val_accuracy: 0.0965\n",
      "Epoch 55/100\n",
      "375/375 [==============================] - 2s 6ms/step - loss: 0.8330 - accuracy: 0.7281 - val_loss: 4.7376 - val_accuracy: 0.0993\n",
      "Epoch 56/100\n",
      "375/375 [==============================] - 2s 6ms/step - loss: 0.8128 - accuracy: 0.7356 - val_loss: 4.8371 - val_accuracy: 0.0956\n",
      "Epoch 57/100\n",
      "375/375 [==============================] - 2s 6ms/step - loss: 0.7996 - accuracy: 0.7384 - val_loss: 4.8701 - val_accuracy: 0.0975\n"
     ]
    },
    {
     "name": "stdout",
     "output_type": "stream",
     "text": [
      "Epoch 58/100\n",
      "375/375 [==============================] - 2s 6ms/step - loss: 0.7816 - accuracy: 0.7456 - val_loss: 4.9147 - val_accuracy: 0.0988\n",
      "Epoch 59/100\n",
      "375/375 [==============================] - 2s 6ms/step - loss: 0.7648 - accuracy: 0.7534 - val_loss: 5.0161 - val_accuracy: 0.1012\n",
      "Epoch 60/100\n",
      "375/375 [==============================] - 2s 6ms/step - loss: 0.7505 - accuracy: 0.7561 - val_loss: 5.0588 - val_accuracy: 0.0955\n",
      "Epoch 61/100\n",
      "375/375 [==============================] - 2s 6ms/step - loss: 0.7345 - accuracy: 0.7597 - val_loss: 5.1284 - val_accuracy: 0.0943\n",
      "Epoch 62/100\n",
      "375/375 [==============================] - 2s 6ms/step - loss: 0.7193 - accuracy: 0.7671 - val_loss: 5.2414 - val_accuracy: 0.0964\n",
      "Epoch 63/100\n",
      "375/375 [==============================] - 2s 6ms/step - loss: 0.7052 - accuracy: 0.7727 - val_loss: 5.2925 - val_accuracy: 0.0962\n",
      "Epoch 64/100\n",
      "375/375 [==============================] - 2s 6ms/step - loss: 0.6921 - accuracy: 0.7737 - val_loss: 5.3615 - val_accuracy: 0.0974\n",
      "Epoch 65/100\n",
      "375/375 [==============================] - 2s 6ms/step - loss: 0.6771 - accuracy: 0.7811 - val_loss: 5.4092 - val_accuracy: 0.0964\n",
      "Epoch 66/100\n",
      "375/375 [==============================] - 2s 6ms/step - loss: 0.6658 - accuracy: 0.7856 - val_loss: 5.4951 - val_accuracy: 0.0964\n",
      "Epoch 67/100\n",
      "375/375 [==============================] - 2s 6ms/step - loss: 0.6513 - accuracy: 0.7898 - val_loss: 5.5733 - val_accuracy: 0.0938\n",
      "Epoch 68/100\n",
      "375/375 [==============================] - 2s 6ms/step - loss: 0.6373 - accuracy: 0.7963 - val_loss: 5.6475 - val_accuracy: 0.0941\n",
      "Epoch 69/100\n",
      "375/375 [==============================] - 2s 6ms/step - loss: 0.6253 - accuracy: 0.8009 - val_loss: 5.7201 - val_accuracy: 0.0920\n",
      "Epoch 70/100\n",
      "375/375 [==============================] - 2s 6ms/step - loss: 0.6139 - accuracy: 0.8020 - val_loss: 5.7811 - val_accuracy: 0.0943\n",
      "Epoch 71/100\n",
      "375/375 [==============================] - 2s 6ms/step - loss: 0.6018 - accuracy: 0.8084 - val_loss: 5.8460 - val_accuracy: 0.0955\n",
      "Epoch 72/100\n",
      "375/375 [==============================] - 2s 6ms/step - loss: 0.5890 - accuracy: 0.8139 - val_loss: 5.9136 - val_accuracy: 0.0962\n",
      "Epoch 73/100\n",
      "375/375 [==============================] - 2s 6ms/step - loss: 0.5796 - accuracy: 0.8151 - val_loss: 6.0075 - val_accuracy: 0.0956\n",
      "Epoch 74/100\n",
      "375/375 [==============================] - 2s 6ms/step - loss: 0.5686 - accuracy: 0.8181 - val_loss: 6.0804 - val_accuracy: 0.0934\n",
      "Epoch 75/100\n",
      "375/375 [==============================] - 2s 6ms/step - loss: 0.5553 - accuracy: 0.8257 - val_loss: 6.1658 - val_accuracy: 0.0927\n",
      "Epoch 76/100\n",
      "375/375 [==============================] - 2s 6ms/step - loss: 0.5460 - accuracy: 0.8269 - val_loss: 6.2148 - val_accuracy: 0.0932\n",
      "Epoch 77/100\n",
      "375/375 [==============================] - 2s 6ms/step - loss: 0.5332 - accuracy: 0.8313 - val_loss: 6.3272 - val_accuracy: 0.0964\n",
      "Epoch 78/100\n",
      "375/375 [==============================] - 2s 6ms/step - loss: 0.5226 - accuracy: 0.8356 - val_loss: 6.3911 - val_accuracy: 0.0961\n",
      "Epoch 79/100\n",
      "375/375 [==============================] - 2s 6ms/step - loss: 0.5155 - accuracy: 0.8363 - val_loss: 6.4444 - val_accuracy: 0.0958\n",
      "Epoch 80/100\n",
      "375/375 [==============================] - 2s 6ms/step - loss: 0.5043 - accuracy: 0.8408 - val_loss: 6.5572 - val_accuracy: 0.0948\n",
      "Epoch 81/100\n",
      "375/375 [==============================] - 2s 6ms/step - loss: 0.4945 - accuracy: 0.8450 - val_loss: 6.5933 - val_accuracy: 0.0955\n",
      "Epoch 82/100\n",
      "375/375 [==============================] - 2s 6ms/step - loss: 0.4844 - accuracy: 0.8473 - val_loss: 6.7179 - val_accuracy: 0.0978\n",
      "Epoch 83/100\n",
      "375/375 [==============================] - 2s 6ms/step - loss: 0.4787 - accuracy: 0.8482 - val_loss: 6.8063 - val_accuracy: 0.0962\n",
      "Epoch 84/100\n",
      "375/375 [==============================] - 2s 6ms/step - loss: 0.4665 - accuracy: 0.8538 - val_loss: 6.7829 - val_accuracy: 0.0966\n",
      "Epoch 85/100\n",
      "375/375 [==============================] - 2s 6ms/step - loss: 0.4599 - accuracy: 0.8568 - val_loss: 6.8598 - val_accuracy: 0.0971\n",
      "Epoch 86/100\n",
      "375/375 [==============================] - 2s 6ms/step - loss: 0.4494 - accuracy: 0.8579 - val_loss: 6.9890 - val_accuracy: 0.0948\n",
      "Epoch 87/100\n",
      "375/375 [==============================] - 2s 6ms/step - loss: 0.4420 - accuracy: 0.8623 - val_loss: 7.0395 - val_accuracy: 0.0960\n",
      "Epoch 88/100\n",
      "375/375 [==============================] - 2s 6ms/step - loss: 0.4350 - accuracy: 0.8637 - val_loss: 7.0856 - val_accuracy: 0.0978\n",
      "Epoch 89/100\n",
      "375/375 [==============================] - 2s 6ms/step - loss: 0.4250 - accuracy: 0.8666 - val_loss: 7.2299 - val_accuracy: 0.0943\n",
      "Epoch 90/100\n",
      "375/375 [==============================] - 2s 6ms/step - loss: 0.4184 - accuracy: 0.8691 - val_loss: 7.2434 - val_accuracy: 0.0979\n",
      "Epoch 91/100\n",
      "375/375 [==============================] - 2s 6ms/step - loss: 0.4114 - accuracy: 0.8723 - val_loss: 7.3545 - val_accuracy: 0.0953\n",
      "Epoch 92/100\n",
      "375/375 [==============================] - 2s 6ms/step - loss: 0.4002 - accuracy: 0.8763 - val_loss: 7.4281 - val_accuracy: 0.0975\n",
      "Epoch 93/100\n",
      "375/375 [==============================] - 2s 6ms/step - loss: 0.3952 - accuracy: 0.8756 - val_loss: 7.5906 - val_accuracy: 0.0950\n",
      "Epoch 94/100\n",
      "375/375 [==============================] - 2s 6ms/step - loss: 0.3869 - accuracy: 0.8811 - val_loss: 7.5272 - val_accuracy: 0.0949\n",
      "Epoch 95/100\n",
      "375/375 [==============================] - 2s 6ms/step - loss: 0.3787 - accuracy: 0.8825 - val_loss: 7.6232 - val_accuracy: 0.0998\n",
      "Epoch 96/100\n",
      "375/375 [==============================] - 2s 6ms/step - loss: 0.3754 - accuracy: 0.8842 - val_loss: 7.7355 - val_accuracy: 0.0970\n",
      "Epoch 97/100\n",
      "375/375 [==============================] - 2s 6ms/step - loss: 0.3676 - accuracy: 0.8863 - val_loss: 7.7611 - val_accuracy: 0.0973\n",
      "Epoch 98/100\n",
      "375/375 [==============================] - 2s 6ms/step - loss: 0.3625 - accuracy: 0.8878 - val_loss: 7.9360 - val_accuracy: 0.0951\n",
      "Epoch 99/100\n",
      "375/375 [==============================] - 2s 6ms/step - loss: 0.3551 - accuracy: 0.8907 - val_loss: 7.9807 - val_accuracy: 0.0974\n",
      "Epoch 100/100\n",
      "375/375 [==============================] - 2s 6ms/step - loss: 0.3492 - accuracy: 0.8919 - val_loss: 8.0195 - val_accuracy: 0.0938\n"
     ]
    },
    {
     "data": {
      "text/plain": [
       "<keras.callbacks.History at 0x2ca8ae3f670>"
      ]
     },
     "execution_count": 4,
     "metadata": {},
     "output_type": "execute_result"
    }
   ],
   "source": [
    "(train_images, train_labels), _ = mnist.load_data()\n",
    "train_images = train_images.reshape((60000, 28 * 28))\n",
    "train_images = train_images.astype(\"float32\") / 255\n",
    "\n",
    "random_train_labels = train_labels[:]\n",
    "np.random.shuffle(random_train_labels)\n",
    "\n",
    "model = keras.Sequential([\n",
    "    layers.Dense(512, activation=\"relu\"),\n",
    "    layers.Dense(10, activation=\"softmax\")\n",
    "])\n",
    "model.compile(optimizer=\"rmsprop\",\n",
    "              loss=\"sparse_categorical_crossentropy\",\n",
    "              metrics=[\"accuracy\"])\n",
    "model.fit(train_images, random_train_labels,\n",
    "          epochs=100,\n",
    "          batch_size=128,\n",
    "          validation_split=0.2)"
   ]
  },
  {
   "cell_type": "markdown",
   "metadata": {
    "colab_type": "text"
   },
   "source": [
    "#### The manifold hypothesis"
   ]
  },
  {
   "cell_type": "markdown",
   "metadata": {
    "colab_type": "text"
   },
   "source": [
    "#### Interpolation as a source of generalization"
   ]
  },
  {
   "cell_type": "markdown",
   "metadata": {
    "colab_type": "text"
   },
   "source": [
    "#### Why deep learning works"
   ]
  },
  {
   "cell_type": "markdown",
   "metadata": {
    "colab_type": "text"
   },
   "source": [
    "#### Training data is paramount"
   ]
  },
  {
   "cell_type": "markdown",
   "metadata": {
    "colab_type": "text"
   },
   "source": [
    "## Evaluating machine-learning models"
   ]
  },
  {
   "cell_type": "markdown",
   "metadata": {
    "colab_type": "text"
   },
   "source": [
    "### Training, validation, and test sets"
   ]
  },
  {
   "cell_type": "markdown",
   "metadata": {
    "colab_type": "text"
   },
   "source": [
    "#### Simple hold-out validation"
   ]
  },
  {
   "cell_type": "markdown",
   "metadata": {
    "colab_type": "text"
   },
   "source": [
    "#### K-fold validation"
   ]
  },
  {
   "cell_type": "markdown",
   "metadata": {
    "colab_type": "text"
   },
   "source": [
    "#### Iterated K-fold validation with shuffling"
   ]
  },
  {
   "cell_type": "markdown",
   "metadata": {
    "colab_type": "text"
   },
   "source": [
    "### Beating a common-sense baseline"
   ]
  },
  {
   "cell_type": "markdown",
   "metadata": {
    "colab_type": "text"
   },
   "source": [
    "### Things to keep in mind about model evaluation"
   ]
  },
  {
   "cell_type": "markdown",
   "metadata": {
    "colab_type": "text"
   },
   "source": [
    "## Improving model fit"
   ]
  },
  {
   "cell_type": "markdown",
   "metadata": {
    "colab_type": "text"
   },
   "source": [
    "### Tuning key gradient descent parameters"
   ]
  },
  {
   "cell_type": "markdown",
   "metadata": {
    "colab_type": "text"
   },
   "source": [
    "**Training a MNIST model with an incorrectly high learning rate**"
   ]
  },
  {
   "cell_type": "code",
   "execution_count": 5,
   "metadata": {
    "colab_type": "code"
   },
   "outputs": [
    {
     "name": "stdout",
     "output_type": "stream",
     "text": [
      "Epoch 1/10\n",
      "375/375 [==============================] - 3s 6ms/step - loss: 638.2569 - accuracy: 0.3198 - val_loss: 2.8016 - val_accuracy: 0.1957\n",
      "Epoch 2/10\n",
      "375/375 [==============================] - 2s 6ms/step - loss: 2.7434 - accuracy: 0.1929 - val_loss: 2.3899 - val_accuracy: 0.1301\n",
      "Epoch 3/10\n",
      "375/375 [==============================] - 2s 6ms/step - loss: 2.7071 - accuracy: 0.1787 - val_loss: 2.3944 - val_accuracy: 0.1945\n",
      "Epoch 4/10\n",
      "375/375 [==============================] - 2s 6ms/step - loss: 2.5737 - accuracy: 0.1794 - val_loss: 2.3543 - val_accuracy: 0.1450\n",
      "Epoch 5/10\n",
      "375/375 [==============================] - 2s 6ms/step - loss: 2.4054 - accuracy: 0.1909 - val_loss: 2.1540 - val_accuracy: 0.2213\n",
      "Epoch 6/10\n",
      "375/375 [==============================] - 2s 6ms/step - loss: 2.5351 - accuracy: 0.2072 - val_loss: 2.4175 - val_accuracy: 0.2375\n",
      "Epoch 7/10\n",
      "375/375 [==============================] - 2s 6ms/step - loss: 2.3935 - accuracy: 0.1969 - val_loss: 2.2136 - val_accuracy: 0.2171\n",
      "Epoch 8/10\n",
      "375/375 [==============================] - 2s 6ms/step - loss: 2.3339 - accuracy: 0.2114 - val_loss: 2.1916 - val_accuracy: 0.2081\n",
      "Epoch 9/10\n",
      "375/375 [==============================] - 2s 6ms/step - loss: 2.6599 - accuracy: 0.2210 - val_loss: 2.4166 - val_accuracy: 0.1981\n",
      "Epoch 10/10\n",
      "375/375 [==============================] - 2s 6ms/step - loss: 2.4256 - accuracy: 0.2060 - val_loss: 2.0976 - val_accuracy: 0.2103\n"
     ]
    },
    {
     "data": {
      "text/plain": [
       "<keras.callbacks.History at 0x2ca82eef490>"
      ]
     },
     "execution_count": 5,
     "metadata": {},
     "output_type": "execute_result"
    }
   ],
   "source": [
    "(train_images, train_labels), _ = mnist.load_data()\n",
    "train_images = train_images.reshape((60000, 28 * 28))\n",
    "train_images = train_images.astype(\"float32\") / 255\n",
    "\n",
    "model = keras.Sequential([\n",
    "    layers.Dense(512, activation=\"relu\"),\n",
    "    layers.Dense(10, activation=\"softmax\")\n",
    "])\n",
    "model.compile(optimizer=keras.optimizers.RMSprop(1.),\n",
    "              loss=\"sparse_categorical_crossentropy\",\n",
    "              metrics=[\"accuracy\"])\n",
    "model.fit(train_images, train_labels,\n",
    "          epochs=10,\n",
    "          batch_size=128,\n",
    "          validation_split=0.2)"
   ]
  },
  {
   "cell_type": "markdown",
   "metadata": {
    "colab_type": "text"
   },
   "source": [
    "**The same model with a more appropriate learning rate**"
   ]
  },
  {
   "cell_type": "code",
   "execution_count": 6,
   "metadata": {
    "colab_type": "code"
   },
   "outputs": [
    {
     "name": "stdout",
     "output_type": "stream",
     "text": [
      "Epoch 1/10\n",
      "375/375 [==============================] - 3s 6ms/step - loss: 0.3674 - accuracy: 0.9122 - val_loss: 0.1324 - val_accuracy: 0.9607\n",
      "Epoch 2/10\n",
      "375/375 [==============================] - 2s 6ms/step - loss: 0.1234 - accuracy: 0.9659 - val_loss: 0.1458 - val_accuracy: 0.9631\n",
      "Epoch 3/10\n",
      "375/375 [==============================] - 2s 6ms/step - loss: 0.0965 - accuracy: 0.9735 - val_loss: 0.1201 - val_accuracy: 0.9729\n",
      "Epoch 4/10\n",
      "375/375 [==============================] - 2s 6ms/step - loss: 0.0766 - accuracy: 0.9807 - val_loss: 0.1582 - val_accuracy: 0.9704\n",
      "Epoch 5/10\n",
      "375/375 [==============================] - 2s 6ms/step - loss: 0.0697 - accuracy: 0.9821 - val_loss: 0.1788 - val_accuracy: 0.9705\n",
      "Epoch 6/10\n",
      "375/375 [==============================] - 2s 6ms/step - loss: 0.0621 - accuracy: 0.9844 - val_loss: 0.2008 - val_accuracy: 0.9685\n",
      "Epoch 7/10\n",
      "375/375 [==============================] - 2s 6ms/step - loss: 0.0568 - accuracy: 0.9865 - val_loss: 0.1715 - val_accuracy: 0.9754\n",
      "Epoch 8/10\n",
      "375/375 [==============================] - 2s 6ms/step - loss: 0.0437 - accuracy: 0.9887 - val_loss: 0.1973 - val_accuracy: 0.9721\n",
      "Epoch 9/10\n",
      "375/375 [==============================] - 2s 6ms/step - loss: 0.0473 - accuracy: 0.9887 - val_loss: 0.2285 - val_accuracy: 0.9733\n",
      "Epoch 10/10\n",
      "375/375 [==============================] - 2s 6ms/step - loss: 0.0393 - accuracy: 0.9909 - val_loss: 0.2199 - val_accuracy: 0.9713\n"
     ]
    },
    {
     "data": {
      "text/plain": [
       "<keras.callbacks.History at 0x2ca833db520>"
      ]
     },
     "execution_count": 6,
     "metadata": {},
     "output_type": "execute_result"
    }
   ],
   "source": [
    "model = keras.Sequential([\n",
    "    layers.Dense(512, activation=\"relu\"),\n",
    "    layers.Dense(10, activation=\"softmax\")\n",
    "])\n",
    "model.compile(optimizer=keras.optimizers.RMSprop(1e-2),\n",
    "              loss=\"sparse_categorical_crossentropy\",\n",
    "              metrics=[\"accuracy\"])\n",
    "model.fit(train_images, train_labels,\n",
    "          epochs=10,\n",
    "          batch_size=128,\n",
    "          validation_split=0.2)"
   ]
  },
  {
   "cell_type": "markdown",
   "metadata": {
    "colab_type": "text"
   },
   "source": [
    "### Leveraging better architecture priors"
   ]
  },
  {
   "cell_type": "markdown",
   "metadata": {
    "colab_type": "text"
   },
   "source": [
    "### Increasing model capacity"
   ]
  },
  {
   "cell_type": "markdown",
   "metadata": {
    "colab_type": "text"
   },
   "source": [
    "**A simple logistic regression on MNIST**"
   ]
  },
  {
   "cell_type": "code",
   "execution_count": 7,
   "metadata": {
    "colab_type": "code"
   },
   "outputs": [
    {
     "name": "stdout",
     "output_type": "stream",
     "text": [
      "Epoch 1/20\n",
      "375/375 [==============================] - 1s 2ms/step - loss: 0.6561 - accuracy: 0.8407 - val_loss: 0.3563 - val_accuracy: 0.9038\n",
      "Epoch 2/20\n",
      "375/375 [==============================] - 1s 2ms/step - loss: 0.3514 - accuracy: 0.9038 - val_loss: 0.3090 - val_accuracy: 0.9139\n",
      "Epoch 3/20\n",
      "375/375 [==============================] - 1s 2ms/step - loss: 0.3171 - accuracy: 0.9115 - val_loss: 0.2928 - val_accuracy: 0.9172\n",
      "Epoch 4/20\n",
      "375/375 [==============================] - 1s 2ms/step - loss: 0.3011 - accuracy: 0.9158 - val_loss: 0.2843 - val_accuracy: 0.9204\n",
      "Epoch 5/20\n",
      "375/375 [==============================] - 1s 2ms/step - loss: 0.2918 - accuracy: 0.9181 - val_loss: 0.2794 - val_accuracy: 0.9222\n",
      "Epoch 6/20\n",
      "375/375 [==============================] - 1s 2ms/step - loss: 0.2848 - accuracy: 0.9204 - val_loss: 0.2756 - val_accuracy: 0.9237\n",
      "Epoch 7/20\n",
      "375/375 [==============================] - 1s 2ms/step - loss: 0.2801 - accuracy: 0.9220 - val_loss: 0.2727 - val_accuracy: 0.9265\n",
      "Epoch 8/20\n",
      "375/375 [==============================] - 1s 2ms/step - loss: 0.2761 - accuracy: 0.9236 - val_loss: 0.2705 - val_accuracy: 0.9266\n",
      "Epoch 9/20\n",
      "375/375 [==============================] - 1s 2ms/step - loss: 0.2731 - accuracy: 0.9238 - val_loss: 0.2672 - val_accuracy: 0.9273\n",
      "Epoch 10/20\n",
      "375/375 [==============================] - 1s 2ms/step - loss: 0.2705 - accuracy: 0.9252 - val_loss: 0.2671 - val_accuracy: 0.9271\n",
      "Epoch 11/20\n",
      "375/375 [==============================] - 1s 2ms/step - loss: 0.2682 - accuracy: 0.9254 - val_loss: 0.2663 - val_accuracy: 0.9285\n",
      "Epoch 12/20\n",
      "375/375 [==============================] - 1s 2ms/step - loss: 0.2661 - accuracy: 0.9265 - val_loss: 0.2661 - val_accuracy: 0.9277\n",
      "Epoch 13/20\n",
      "375/375 [==============================] - 1s 2ms/step - loss: 0.2647 - accuracy: 0.9269 - val_loss: 0.2670 - val_accuracy: 0.9262\n",
      "Epoch 14/20\n",
      "375/375 [==============================] - 1s 2ms/step - loss: 0.2627 - accuracy: 0.9276 - val_loss: 0.2642 - val_accuracy: 0.9293\n",
      "Epoch 15/20\n",
      "375/375 [==============================] - 1s 2ms/step - loss: 0.2617 - accuracy: 0.9276 - val_loss: 0.2634 - val_accuracy: 0.9288\n",
      "Epoch 16/20\n",
      "375/375 [==============================] - 1s 2ms/step - loss: 0.2605 - accuracy: 0.9278 - val_loss: 0.2630 - val_accuracy: 0.9293\n",
      "Epoch 17/20\n",
      "375/375 [==============================] - 1s 2ms/step - loss: 0.2589 - accuracy: 0.9284 - val_loss: 0.2636 - val_accuracy: 0.9296\n",
      "Epoch 18/20\n",
      "375/375 [==============================] - 1s 2ms/step - loss: 0.2577 - accuracy: 0.9297 - val_loss: 0.2621 - val_accuracy: 0.9305\n",
      "Epoch 19/20\n",
      "375/375 [==============================] - 1s 2ms/step - loss: 0.2568 - accuracy: 0.9297 - val_loss: 0.2629 - val_accuracy: 0.9291\n",
      "Epoch 20/20\n",
      "375/375 [==============================] - 1s 2ms/step - loss: 0.2562 - accuracy: 0.9302 - val_loss: 0.2619 - val_accuracy: 0.9300\n"
     ]
    }
   ],
   "source": [
    "model = keras.Sequential([layers.Dense(10, activation=\"softmax\")])\n",
    "model.compile(optimizer=\"rmsprop\",\n",
    "              loss=\"sparse_categorical_crossentropy\",\n",
    "              metrics=[\"accuracy\"])\n",
    "history_small_model = model.fit(\n",
    "    train_images, train_labels,\n",
    "    epochs=20,\n",
    "    batch_size=128,\n",
    "    validation_split=0.2)"
   ]
  },
  {
   "cell_type": "code",
   "execution_count": 8,
   "metadata": {
    "colab_type": "code"
   },
   "outputs": [
    {
     "data": {
      "text/plain": [
       "<matplotlib.legend.Legend at 0x2ca846ba620>"
      ]
     },
     "execution_count": 8,
     "metadata": {},
     "output_type": "execute_result"
    },
    {
     "data": {
      "image/png": "[encoded data removed]",
      "text/plain": [
       "<Figure size 640x480 with 1 Axes>"
      ]
     },
     "metadata": {},
     "output_type": "display_data"
    }
   ],
   "source": [
    "import matplotlib.pyplot as plt\n",
    "val_loss = history_small_model.history[\"val_loss\"]\n",
    "epochs = range(1, 21)\n",
    "plt.plot(epochs, val_loss, \"b--\",\n",
    "         label=\"Validation loss\")\n",
    "plt.title(\"Effect of insufficient model capacity on validation loss\")\n",
    "plt.xlabel(\"Epochs\")\n",
    "plt.ylabel(\"Loss\")\n",
    "plt.legend()"
   ]
  },
  {
   "cell_type": "code",
   "execution_count": 9,
   "metadata": {
    "colab_type": "code"
   },
   "outputs": [
    {
     "name": "stdout",
     "output_type": "stream",
     "text": [
      "Epoch 1/20\n",
      "375/375 [==============================] - 2s 3ms/step - loss: 0.3606 - accuracy: 0.8996 - val_loss: 0.1743 - val_accuracy: 0.9501\n",
      "Epoch 2/20\n",
      "375/375 [==============================] - 1s 3ms/step - loss: 0.1563 - accuracy: 0.9534 - val_loss: 0.1292 - val_accuracy: 0.9595\n",
      "Epoch 3/20\n",
      "375/375 [==============================] - 1s 3ms/step - loss: 0.1097 - accuracy: 0.9671 - val_loss: 0.1071 - val_accuracy: 0.9678\n",
      "Epoch 4/20\n",
      "375/375 [==============================] - 1s 3ms/step - loss: 0.0837 - accuracy: 0.9753 - val_loss: 0.1013 - val_accuracy: 0.9703\n",
      "Epoch 5/20\n",
      "375/375 [==============================] - 1s 3ms/step - loss: 0.0684 - accuracy: 0.9791 - val_loss: 0.0971 - val_accuracy: 0.9700\n",
      "Epoch 6/20\n",
      "375/375 [==============================] - 1s 3ms/step - loss: 0.0558 - accuracy: 0.9830 - val_loss: 0.0929 - val_accuracy: 0.9745\n",
      "Epoch 7/20\n",
      "375/375 [==============================] - 1s 3ms/step - loss: 0.0459 - accuracy: 0.9855 - val_loss: 0.1000 - val_accuracy: 0.9718\n",
      "Epoch 8/20\n",
      "375/375 [==============================] - 1s 3ms/step - loss: 0.0394 - accuracy: 0.9880 - val_loss: 0.0970 - val_accuracy: 0.9745\n",
      "Epoch 9/20\n",
      "375/375 [==============================] - 1s 3ms/step - loss: 0.0328 - accuracy: 0.9899 - val_loss: 0.0924 - val_accuracy: 0.9745\n",
      "Epoch 10/20\n",
      "375/375 [==============================] - 1s 3ms/step - loss: 0.0274 - accuracy: 0.9912 - val_loss: 0.0953 - val_accuracy: 0.9750\n",
      "Epoch 11/20\n",
      "375/375 [==============================] - 1s 3ms/step - loss: 0.0238 - accuracy: 0.9926 - val_loss: 0.0982 - val_accuracy: 0.9749\n",
      "Epoch 12/20\n",
      "375/375 [==============================] - 1s 3ms/step - loss: 0.0186 - accuracy: 0.9947 - val_loss: 0.1012 - val_accuracy: 0.9753\n",
      "Epoch 13/20\n",
      "375/375 [==============================] - 1s 3ms/step - loss: 0.0163 - accuracy: 0.9950 - val_loss: 0.0990 - val_accuracy: 0.9777\n",
      "Epoch 14/20\n",
      "375/375 [==============================] - 1s 3ms/step - loss: 0.0137 - accuracy: 0.9957 - val_loss: 0.1028 - val_accuracy: 0.9772\n",
      "Epoch 15/20\n",
      "375/375 [==============================] - 1s 3ms/step - loss: 0.0123 - accuracy: 0.9961 - val_loss: 0.1049 - val_accuracy: 0.9784\n",
      "Epoch 16/20\n",
      "375/375 [==============================] - 1s 3ms/step - loss: 0.0099 - accuracy: 0.9969 - val_loss: 0.1202 - val_accuracy: 0.9751\n",
      "Epoch 17/20\n",
      "375/375 [==============================] - 1s 3ms/step - loss: 0.0082 - accuracy: 0.9976 - val_loss: 0.1220 - val_accuracy: 0.9737\n",
      "Epoch 18/20\n",
      "375/375 [==============================] - 1s 3ms/step - loss: 0.0082 - accuracy: 0.9972 - val_loss: 0.1149 - val_accuracy: 0.9763\n",
      "Epoch 19/20\n",
      "375/375 [==============================] - 1s 3ms/step - loss: 0.0069 - accuracy: 0.9979 - val_loss: 0.1360 - val_accuracy: 0.9734\n",
      "Epoch 20/20\n",
      "375/375 [==============================] - 1s 3ms/step - loss: 0.0056 - accuracy: 0.9983 - val_loss: 0.1147 - val_accuracy: 0.9773\n"
     ]
    }
   ],
   "source": [
    "model = keras.Sequential([\n",
    "    layers.Dense(96, activation=\"relu\"),\n",
    "    layers.Dense(96, activation=\"relu\"),\n",
    "    layers.Dense(10, activation=\"softmax\"),\n",
    "])\n",
    "model.compile(optimizer=\"rmsprop\",\n",
    "              loss=\"sparse_categorical_crossentropy\",\n",
    "              metrics=[\"accuracy\"])\n",
    "history_large_model = model.fit(\n",
    "    train_images, train_labels,\n",
    "    epochs=20,\n",
    "    batch_size=128,\n",
    "    validation_split=0.2)"
   ]
  },
  {
   "cell_type": "code",
   "execution_count": 10,
   "metadata": {
    "colab_type": "code"
   },
   "outputs": [
    {
     "data": {
      "text/plain": [
       "<matplotlib.legend.Legend at 0x2ca8462b070>"
      ]
     },
     "execution_count": 10,
     "metadata": {},
     "output_type": "execute_result"
    },
    {
     "data": {
      "image/png": "[encoded data removed]",
      "text/plain": [
       "<Figure size 640x480 with 1 Axes>"
      ]
     },
     "metadata": {},
     "output_type": "display_data"
    }
   ],
   "source": [
    "val_loss = history_large_model.history[\"val_loss\"]\n",
    "epochs = range(1, 21)\n",
    "plt.plot(epochs, val_loss, \"b--\",\n",
    "         label=\"Validation loss\")\n",
    "plt.title(\"Validation loss for a model with appropriate capacity\")\n",
    "plt.xlabel(\"Epochs\")\n",
    "plt.ylabel(\"Loss\")\n",
    "plt.legend()"
   ]
  },
  {
   "cell_type": "markdown",
   "metadata": {
    "colab_type": "text"
   },
   "source": [
    "## Improving generalization"
   ]
  },
  {
   "cell_type": "markdown",
   "metadata": {
    "colab_type": "text"
   },
   "source": [
    "### Dataset curation"
   ]
  },
  {
   "cell_type": "markdown",
   "metadata": {
    "colab_type": "text"
   },
   "source": [
    "### Feature engineering"
   ]
  },
  {
   "cell_type": "markdown",
   "metadata": {
    "colab_type": "text"
   },
   "source": [
    "### Using early stopping"
   ]
  },
  {
   "cell_type": "markdown",
   "metadata": {
    "colab_type": "text"
   },
   "source": [
    "### Regularizing your model"
   ]
  },
  {
   "cell_type": "markdown",
   "metadata": {
    "colab_type": "text"
   },
   "source": [
    "#### Reducing the network's size"
   ]
  },
  {
   "cell_type": "markdown",
   "metadata": {
    "colab_type": "text"
   },
   "source": [
    "**Original model**"
   ]
  },
  {
   "cell_type": "code",
   "execution_count": 11,
   "metadata": {
    "colab_type": "code"
   },
   "outputs": [
    {
     "name": "stdout",
     "output_type": "stream",
     "text": [
      "Epoch 1/20\n",
      "30/30 [==============================] - 2s 30ms/step - loss: 0.5667 - accuracy: 0.7531 - val_loss: 0.4350 - val_accuracy: 0.8613\n",
      "Epoch 2/20\n",
      "30/30 [==============================] - 0s 15ms/step - loss: 0.3618 - accuracy: 0.8881 - val_loss: 0.3368 - val_accuracy: 0.8811\n",
      "Epoch 3/20\n",
      "30/30 [==============================] - 0s 15ms/step - loss: 0.2688 - accuracy: 0.9126 - val_loss: 0.3012 - val_accuracy: 0.8820\n",
      "Epoch 4/20\n",
      "30/30 [==============================] - 0s 16ms/step - loss: 0.2128 - accuracy: 0.9326 - val_loss: 0.2942 - val_accuracy: 0.8833\n",
      "Epoch 5/20\n",
      "30/30 [==============================] - 0s 16ms/step - loss: 0.1766 - accuracy: 0.9425 - val_loss: 0.2772 - val_accuracy: 0.8894\n",
      "Epoch 6/20\n",
      "30/30 [==============================] - 0s 16ms/step - loss: 0.1505 - accuracy: 0.9524 - val_loss: 0.2931 - val_accuracy: 0.8835\n",
      "Epoch 7/20\n",
      "30/30 [==============================] - 0s 15ms/step - loss: 0.1302 - accuracy: 0.9583 - val_loss: 0.2947 - val_accuracy: 0.8860\n",
      "Epoch 8/20\n",
      "30/30 [==============================] - 0s 16ms/step - loss: 0.1125 - accuracy: 0.9660 - val_loss: 0.2989 - val_accuracy: 0.8849\n",
      "Epoch 9/20\n",
      "30/30 [==============================] - 0s 15ms/step - loss: 0.0975 - accuracy: 0.9717 - val_loss: 0.3152 - val_accuracy: 0.8838\n",
      "Epoch 10/20\n",
      "30/30 [==============================] - 0s 16ms/step - loss: 0.0825 - accuracy: 0.9786 - val_loss: 0.3632 - val_accuracy: 0.8739\n",
      "Epoch 11/20\n",
      "30/30 [==============================] - 0s 16ms/step - loss: 0.0710 - accuracy: 0.9820 - val_loss: 0.3670 - val_accuracy: 0.8781\n",
      "Epoch 12/20\n",
      "30/30 [==============================] - 0s 15ms/step - loss: 0.0611 - accuracy: 0.9854 - val_loss: 0.3728 - val_accuracy: 0.8779\n",
      "Epoch 13/20\n",
      "30/30 [==============================] - 0s 16ms/step - loss: 0.0513 - accuracy: 0.9882 - val_loss: 0.4178 - val_accuracy: 0.8726\n",
      "Epoch 14/20\n",
      "30/30 [==============================] - 0s 15ms/step - loss: 0.0437 - accuracy: 0.9904 - val_loss: 0.4086 - val_accuracy: 0.8787\n",
      "Epoch 15/20\n",
      "30/30 [==============================] - 0s 16ms/step - loss: 0.0358 - accuracy: 0.9936 - val_loss: 0.4442 - val_accuracy: 0.8739\n",
      "Epoch 16/20\n",
      "30/30 [==============================] - 0s 15ms/step - loss: 0.0323 - accuracy: 0.9947 - val_loss: 0.4624 - val_accuracy: 0.8739\n",
      "Epoch 17/20\n",
      "30/30 [==============================] - 0s 15ms/step - loss: 0.0267 - accuracy: 0.9957 - val_loss: 0.4857 - val_accuracy: 0.8732\n",
      "Epoch 18/20\n",
      "30/30 [==============================] - 0s 15ms/step - loss: 0.0213 - accuracy: 0.9977 - val_loss: 0.4998 - val_accuracy: 0.8735\n",
      "Epoch 19/20\n",
      "30/30 [==============================] - 0s 15ms/step - loss: 0.0173 - accuracy: 0.9977 - val_loss: 0.5311 - val_accuracy: 0.8711\n",
      "Epoch 20/20\n",
      "30/30 [==============================] - 0s 15ms/step - loss: 0.0171 - accuracy: 0.9977 - val_loss: 0.5455 - val_accuracy: 0.8721\n"
     ]
    }
   ],
   "source": [
    "from tensorflow.keras.datasets import imdb\n",
    "(train_data, train_labels), _ = imdb.load_data(num_words=10000)\n",
    "\n",
    "def vectorize_sequences(sequences, dimension=10000):\n",
    "    results = np.zeros((len(sequences), dimension))\n",
    "    for i, sequence in enumerate(sequences):\n",
    "        results[i, sequence] = 1.\n",
    "    return results\n",
    "train_data = vectorize_sequences(train_data)\n",
    "\n",
    "model = keras.Sequential([\n",
    "    layers.Dense(16, activation=\"relu\"),\n",
    "    layers.Dense(16, activation=\"relu\"),\n",
    "    layers.Dense(1, activation=\"sigmoid\")\n",
    "])\n",
    "model.compile(optimizer=\"rmsprop\",\n",
    "              loss=\"binary_crossentropy\",\n",
    "              metrics=[\"accuracy\"])\n",
    "history_original = model.fit(train_data, train_labels,\n",
    "                             epochs=20, batch_size=512, validation_split=0.4)"
   ]
  },
  {
   "cell_type": "markdown",
   "metadata": {
    "colab_type": "text"
   },
   "source": [
    "**Version of the model with lower capacity**"
   ]
  },
  {
   "cell_type": "code",
   "execution_count": 12,
   "metadata": {
    "colab_type": "code"
   },
   "outputs": [
    {
     "name": "stdout",
     "output_type": "stream",
     "text": [
      "Epoch 1/20\n",
      "30/30 [==============================] - 1s 26ms/step - loss: 0.5973 - accuracy: 0.7551 - val_loss: 0.5151 - val_accuracy: 0.8449\n",
      "Epoch 2/20\n",
      "30/30 [==============================] - 0s 15ms/step - loss: 0.4469 - accuracy: 0.8755 - val_loss: 0.4177 - val_accuracy: 0.8676\n",
      "Epoch 3/20\n",
      "30/30 [==============================] - 0s 14ms/step - loss: 0.3595 - accuracy: 0.9001 - val_loss: 0.3598 - val_accuracy: 0.8793\n",
      "Epoch 4/20\n",
      "30/30 [==============================] - 0s 15ms/step - loss: 0.3005 - accuracy: 0.9114 - val_loss: 0.3236 - val_accuracy: 0.8842\n",
      "Epoch 5/20\n",
      "30/30 [==============================] - 0s 15ms/step - loss: 0.2595 - accuracy: 0.9212 - val_loss: 0.3007 - val_accuracy: 0.8874\n",
      "Epoch 6/20\n",
      "30/30 [==============================] - 0s 15ms/step - loss: 0.2279 - accuracy: 0.9309 - val_loss: 0.2870 - val_accuracy: 0.8901\n",
      "Epoch 7/20\n",
      "30/30 [==============================] - 0s 15ms/step - loss: 0.2029 - accuracy: 0.9365 - val_loss: 0.2779 - val_accuracy: 0.8922\n",
      "Epoch 8/20\n",
      "30/30 [==============================] - 0s 15ms/step - loss: 0.1823 - accuracy: 0.9443 - val_loss: 0.2754 - val_accuracy: 0.8916\n",
      "Epoch 9/20\n",
      "30/30 [==============================] - 0s 15ms/step - loss: 0.1651 - accuracy: 0.9499 - val_loss: 0.2880 - val_accuracy: 0.8824\n",
      "Epoch 10/20\n",
      "30/30 [==============================] - 0s 15ms/step - loss: 0.1513 - accuracy: 0.9539 - val_loss: 0.2729 - val_accuracy: 0.8910\n",
      "Epoch 11/20\n",
      "30/30 [==============================] - 0s 15ms/step - loss: 0.1379 - accuracy: 0.9588 - val_loss: 0.2762 - val_accuracy: 0.8895\n",
      "Epoch 12/20\n",
      "30/30 [==============================] - 0s 15ms/step - loss: 0.1271 - accuracy: 0.9627 - val_loss: 0.2808 - val_accuracy: 0.8878\n",
      "Epoch 13/20\n",
      "30/30 [==============================] - 0s 15ms/step - loss: 0.1166 - accuracy: 0.9674 - val_loss: 0.2859 - val_accuracy: 0.8879\n",
      "Epoch 14/20\n",
      "30/30 [==============================] - 0s 15ms/step - loss: 0.1075 - accuracy: 0.9701 - val_loss: 0.2923 - val_accuracy: 0.8876\n",
      "Epoch 15/20\n",
      "30/30 [==============================] - 0s 15ms/step - loss: 0.0986 - accuracy: 0.9730 - val_loss: 0.3008 - val_accuracy: 0.8865\n",
      "Epoch 16/20\n",
      "30/30 [==============================] - 0s 15ms/step - loss: 0.0908 - accuracy: 0.9767 - val_loss: 0.3199 - val_accuracy: 0.8799\n",
      "Epoch 17/20\n",
      "30/30 [==============================] - 0s 15ms/step - loss: 0.0838 - accuracy: 0.9785 - val_loss: 0.3174 - val_accuracy: 0.8848\n",
      "Epoch 18/20\n",
      "30/30 [==============================] - 0s 15ms/step - loss: 0.0774 - accuracy: 0.9798 - val_loss: 0.3270 - val_accuracy: 0.8838\n",
      "Epoch 19/20\n",
      "30/30 [==============================] - 0s 15ms/step - loss: 0.0713 - accuracy: 0.9833 - val_loss: 0.3348 - val_accuracy: 0.8821\n",
      "Epoch 20/20\n",
      "30/30 [==============================] - 0s 14ms/step - loss: 0.0652 - accuracy: 0.9847 - val_loss: 0.3508 - val_accuracy: 0.8796\n"
     ]
    }
   ],
   "source": [
    "model = keras.Sequential([\n",
    "    layers.Dense(4, activation=\"relu\"),\n",
    "    layers.Dense(4, activation=\"relu\"),\n",
    "    layers.Dense(1, activation=\"sigmoid\")\n",
    "])\n",
    "model.compile(optimizer=\"rmsprop\",\n",
    "              loss=\"binary_crossentropy\",\n",
    "              metrics=[\"accuracy\"])\n",
    "history_smaller_model = model.fit(\n",
    "    train_data, train_labels,\n",
    "    epochs=20, batch_size=512, validation_split=0.4)"
   ]
  },
  {
   "cell_type": "markdown",
   "metadata": {
    "colab_type": "text"
   },
   "source": [
    "**Version of the model with higher capacity**"
   ]
  },
  {
   "cell_type": "code",
   "execution_count": 13,
   "metadata": {
    "colab_type": "code",
    "scrolled": true
   },
   "outputs": [
    {
     "name": "stdout",
     "output_type": "stream",
     "text": [
      "Epoch 1/20\n",
      "30/30 [==============================] - 3s 87ms/step - loss: 0.5612 - accuracy: 0.7327 - val_loss: 0.3630 - val_accuracy: 0.8469\n",
      "Epoch 2/20\n",
      "30/30 [==============================] - 2s 73ms/step - loss: 0.3248 - accuracy: 0.8627 - val_loss: 0.3725 - val_accuracy: 0.8375\n",
      "Epoch 3/20\n",
      "30/30 [==============================] - 2s 73ms/step - loss: 0.2390 - accuracy: 0.9053 - val_loss: 0.3977 - val_accuracy: 0.8383\n",
      "Epoch 4/20\n",
      "30/30 [==============================] - 2s 74ms/step - loss: 0.1888 - accuracy: 0.9251 - val_loss: 0.2689 - val_accuracy: 0.8887\n",
      "Epoch 5/20\n",
      "30/30 [==============================] - 2s 74ms/step - loss: 0.1325 - accuracy: 0.9531 - val_loss: 0.3582 - val_accuracy: 0.8607\n",
      "Epoch 6/20\n",
      "30/30 [==============================] - 2s 73ms/step - loss: 0.1041 - accuracy: 0.9609 - val_loss: 0.3512 - val_accuracy: 0.8764\n",
      "Epoch 7/20\n",
      "30/30 [==============================] - 2s 73ms/step - loss: 0.0819 - accuracy: 0.9730 - val_loss: 0.3472 - val_accuracy: 0.8856\n",
      "Epoch 8/20\n",
      "30/30 [==============================] - 2s 73ms/step - loss: 0.0714 - accuracy: 0.9778 - val_loss: 0.3585 - val_accuracy: 0.8834\n",
      "Epoch 9/20\n",
      "30/30 [==============================] - 2s 73ms/step - loss: 0.0525 - accuracy: 0.9829 - val_loss: 0.3319 - val_accuracy: 0.8811\n",
      "Epoch 10/20\n",
      "30/30 [==============================] - 2s 73ms/step - loss: 0.0126 - accuracy: 0.9990 - val_loss: 0.4581 - val_accuracy: 0.8851\n",
      "Epoch 11/20\n",
      "30/30 [==============================] - 2s 73ms/step - loss: 0.0946 - accuracy: 0.9801 - val_loss: 0.3547 - val_accuracy: 0.8829\n",
      "Epoch 12/20\n",
      "30/30 [==============================] - 2s 73ms/step - loss: 0.0069 - accuracy: 0.9999 - val_loss: 0.4645 - val_accuracy: 0.8846\n",
      "Epoch 13/20\n",
      "30/30 [==============================] - 2s 73ms/step - loss: 0.0025 - accuracy: 0.9999 - val_loss: 0.5297 - val_accuracy: 0.8832\n",
      "Epoch 14/20\n",
      "30/30 [==============================] - 2s 74ms/step - loss: 0.0013 - accuracy: 1.0000 - val_loss: 0.6510 - val_accuracy: 0.8718\n",
      "Epoch 15/20\n",
      "30/30 [==============================] - 2s 73ms/step - loss: 0.1054 - accuracy: 0.9810 - val_loss: 0.4767 - val_accuracy: 0.8842\n",
      "Epoch 16/20\n",
      "30/30 [==============================] - 2s 73ms/step - loss: 0.0015 - accuracy: 1.0000 - val_loss: 0.5576 - val_accuracy: 0.8842\n",
      "Epoch 17/20\n",
      "30/30 [==============================] - 2s 73ms/step - loss: 7.5958e-04 - accuracy: 1.0000 - val_loss: 0.6494 - val_accuracy: 0.8785\n",
      "Epoch 18/20\n",
      "30/30 [==============================] - 2s 73ms/step - loss: 5.0829e-04 - accuracy: 1.0000 - val_loss: 0.6517 - val_accuracy: 0.8831\n",
      "Epoch 19/20\n",
      "30/30 [==============================] - 2s 73ms/step - loss: 3.2194e-04 - accuracy: 1.0000 - val_loss: 0.6937 - val_accuracy: 0.8834\n",
      "Epoch 20/20\n",
      "30/30 [==============================] - 2s 72ms/step - loss: 2.4368e-04 - accuracy: 1.0000 - val_loss: 0.7036 - val_accuracy: 0.8843\n"
     ]
    }
   ],
   "source": [
    "model = keras.Sequential([\n",
    "    layers.Dense(512, activation=\"relu\"),\n",
    "    layers.Dense(512, activation=\"relu\"),\n",
    "    layers.Dense(1, activation=\"sigmoid\")\n",
    "])\n",
    "model.compile(optimizer=\"rmsprop\",\n",
    "              loss=\"binary_crossentropy\",\n",
    "              metrics=[\"accuracy\"])\n",
    "history_larger_model = model.fit(\n",
    "    train_data, train_labels,\n",
    "    epochs=20, batch_size=512, validation_split=0.4)"
   ]
  },
  {
   "cell_type": "code",
   "execution_count": 15,
   "metadata": {
    "colab_type": "code"
   },
   "outputs": [
    {
     "data": {
      "text/plain": [
       "<matplotlib.legend.Legend at 0x2ca9ec670d0>"
      ]
     },
     "execution_count": 15,
     "metadata": {},
     "output_type": "execute_result"
    },
    {
     "data": {
      "image/png": "[encoded data removed]",
      "text/plain": [
       "<Figure size 640x480 with 1 Axes>"
      ]
     },
     "metadata": {},
     "output_type": "display_data"
    }
   ],
   "source": [
    "val_loss_orig = history_original.history[\"val_loss\"]\n",
    "val_loss_smaller = history_smaller_model.history[\"val_loss\"]\n",
    "val_loss_larger = history_larger_model.history[\"val_loss\"]\n",
    "epochs = range(1, 21)\n",
    "plt.plot(epochs, val_loss_orig, \"b--\",\n",
    "         label=\"Validation loss orig\")\n",
    "plt.plot(epochs, val_loss_smaller, \"g-\",\n",
    "         label=\"Validation loss smaller\")\n",
    "plt.plot(epochs, val_loss_larger, \"r-.\",\n",
    "         label=\"Validation loss larger\")\n",
    "plt.title(\"Validation loss for a models of different capacity\")\n",
    "plt.xlabel(\"Epochs\")\n",
    "plt.ylabel(\"Loss\")\n",
    "plt.legend()"
   ]
  },
  {
   "cell_type": "markdown",
   "metadata": {
    "colab_type": "text"
   },
   "source": [
    "#### Adding weight regularization"
   ]
  },
  {
   "cell_type": "markdown",
   "metadata": {
    "colab_type": "text"
   },
   "source": [
    "**Adding L2 weight regularization to the model**"
   ]
  },
  {
   "cell_type": "code",
   "execution_count": 16,
   "metadata": {
    "colab_type": "code"
   },
   "outputs": [
    {
     "name": "stdout",
     "output_type": "stream",
     "text": [
      "Epoch 1/20\n",
      "30/30 [==============================] - 3s 40ms/step - loss: 0.6304 - accuracy: 0.7781 - val_loss: 0.5112 - val_accuracy: 0.8486\n",
      "Epoch 2/20\n",
      "30/30 [==============================] - 0s 15ms/step - loss: 0.4290 - accuracy: 0.8868 - val_loss: 0.4243 - val_accuracy: 0.8662\n",
      "Epoch 3/20\n",
      "30/30 [==============================] - 0s 15ms/step - loss: 0.3478 - accuracy: 0.9083 - val_loss: 0.3945 - val_accuracy: 0.8717\n",
      "Epoch 4/20\n",
      "30/30 [==============================] - 0s 15ms/step - loss: 0.3083 - accuracy: 0.9191 - val_loss: 0.3663 - val_accuracy: 0.8845\n",
      "Epoch 5/20\n",
      "30/30 [==============================] - 0s 15ms/step - loss: 0.2822 - accuracy: 0.9305 - val_loss: 0.3658 - val_accuracy: 0.8824\n",
      "Epoch 6/20\n",
      "30/30 [==============================] - 0s 14ms/step - loss: 0.2682 - accuracy: 0.9355 - val_loss: 0.3664 - val_accuracy: 0.8825\n",
      "Epoch 7/20\n",
      "30/30 [==============================] - 0s 14ms/step - loss: 0.2514 - accuracy: 0.9427 - val_loss: 0.3686 - val_accuracy: 0.8838\n",
      "Epoch 8/20\n",
      "30/30 [==============================] - 0s 15ms/step - loss: 0.2440 - accuracy: 0.9447 - val_loss: 0.3614 - val_accuracy: 0.8832\n",
      "Epoch 9/20\n",
      "30/30 [==============================] - 0s 14ms/step - loss: 0.2384 - accuracy: 0.9463 - val_loss: 0.3937 - val_accuracy: 0.8711\n",
      "Epoch 10/20\n",
      "30/30 [==============================] - 0s 14ms/step - loss: 0.2285 - accuracy: 0.9531 - val_loss: 0.3945 - val_accuracy: 0.8727\n",
      "Epoch 11/20\n",
      "30/30 [==============================] - 0s 15ms/step - loss: 0.2249 - accuracy: 0.9509 - val_loss: 0.3738 - val_accuracy: 0.8815\n",
      "Epoch 12/20\n",
      "30/30 [==============================] - 0s 14ms/step - loss: 0.2179 - accuracy: 0.9563 - val_loss: 0.4088 - val_accuracy: 0.8707\n",
      "Epoch 13/20\n",
      "30/30 [==============================] - 0s 14ms/step - loss: 0.2159 - accuracy: 0.9553 - val_loss: 0.3922 - val_accuracy: 0.8780\n",
      "Epoch 14/20\n",
      "30/30 [==============================] - 0s 14ms/step - loss: 0.2080 - accuracy: 0.9596 - val_loss: 0.5051 - val_accuracy: 0.8451\n",
      "Epoch 15/20\n",
      "30/30 [==============================] - 0s 14ms/step - loss: 0.2116 - accuracy: 0.9547 - val_loss: 0.3910 - val_accuracy: 0.8772\n",
      "Epoch 16/20\n",
      "30/30 [==============================] - 0s 14ms/step - loss: 0.2011 - accuracy: 0.9609 - val_loss: 0.4000 - val_accuracy: 0.8775\n",
      "Epoch 17/20\n",
      "30/30 [==============================] - 0s 14ms/step - loss: 0.2061 - accuracy: 0.9585 - val_loss: 0.3985 - val_accuracy: 0.8788\n",
      "Epoch 18/20\n",
      "30/30 [==============================] - 0s 14ms/step - loss: 0.1949 - accuracy: 0.9644 - val_loss: 0.4474 - val_accuracy: 0.8633\n",
      "Epoch 19/20\n",
      "30/30 [==============================] - 0s 14ms/step - loss: 0.1956 - accuracy: 0.9635 - val_loss: 0.4101 - val_accuracy: 0.8761\n",
      "Epoch 20/20\n",
      "30/30 [==============================] - 0s 13ms/step - loss: 0.1948 - accuracy: 0.9632 - val_loss: 0.4100 - val_accuracy: 0.8748\n"
     ]
    }
   ],
   "source": [
    "from tensorflow.keras import regularizers\n",
    "model = keras.Sequential([\n",
    "    layers.Dense(16,\n",
    "                 kernel_regularizer=regularizers.l2(0.002),\n",
    "                 activation=\"relu\"),\n",
    "    layers.Dense(16,\n",
    "                 kernel_regularizer=regularizers.l2(0.002),\n",
    "                 activation=\"relu\"),\n",
    "    layers.Dense(1, activation=\"sigmoid\")\n",
    "])\n",
    "model.compile(optimizer=\"rmsprop\",\n",
    "              loss=\"binary_crossentropy\",\n",
    "              metrics=[\"accuracy\"])\n",
    "history_l2_reg = model.fit(\n",
    "    train_data, train_labels,\n",
    "    epochs=20, batch_size=512, validation_split=0.4)"
   ]
  },
  {
   "cell_type": "markdown",
   "metadata": {
    "colab_type": "text"
   },
   "source": [
    "**Different weight regularizers available in Keras**"
   ]
  },
  {
   "cell_type": "code",
   "execution_count": 17,
   "metadata": {
    "colab_type": "code"
   },
   "outputs": [
    {
     "data": {
      "text/plain": [
       "<keras.regularizers.L1L2 at 0x2ca9efbed10>"
      ]
     },
     "execution_count": 17,
     "metadata": {},
     "output_type": "execute_result"
    }
   ],
   "source": [
    "from tensorflow.keras import regularizers\n",
    "regularizers.l1(0.001)\n",
    "regularizers.l1_l2(l1=0.001, l2=0.001)"
   ]
  },
  {
   "cell_type": "markdown",
   "metadata": {
    "colab_type": "text"
   },
   "source": [
    "#### Adding dropout"
   ]
  },
  {
   "cell_type": "markdown",
   "metadata": {
    "colab_type": "text"
   },
   "source": [
    "**Adding dropout to the IMDB model**"
   ]
  },
  {
   "cell_type": "code",
   "execution_count": 18,
   "metadata": {
    "colab_type": "code"
   },
   "outputs": [
    {
     "name": "stdout",
     "output_type": "stream",
     "text": [
      "Epoch 1/20\n",
      "30/30 [==============================] - 2s 28ms/step - loss: 0.6384 - accuracy: 0.6398 - val_loss: 0.5446 - val_accuracy: 0.8227\n",
      "Epoch 2/20\n",
      "30/30 [==============================] - 0s 16ms/step - loss: 0.5248 - accuracy: 0.7620 - val_loss: 0.4157 - val_accuracy: 0.8670\n",
      "Epoch 3/20\n",
      "30/30 [==============================] - 0s 16ms/step - loss: 0.4380 - accuracy: 0.8142 - val_loss: 0.3520 - val_accuracy: 0.8778\n",
      "Epoch 4/20\n",
      "30/30 [==============================] - 0s 16ms/step - loss: 0.3802 - accuracy: 0.8450 - val_loss: 0.3178 - val_accuracy: 0.8813\n",
      "Epoch 5/20\n",
      "30/30 [==============================] - 0s 16ms/step - loss: 0.3384 - accuracy: 0.8687 - val_loss: 0.2896 - val_accuracy: 0.8838\n",
      "Epoch 6/20\n",
      "30/30 [==============================] - 0s 16ms/step - loss: 0.2952 - accuracy: 0.8903 - val_loss: 0.2769 - val_accuracy: 0.8899\n",
      "Epoch 7/20\n",
      "30/30 [==============================] - 0s 16ms/step - loss: 0.2661 - accuracy: 0.9000 - val_loss: 0.2731 - val_accuracy: 0.8902\n",
      "Epoch 8/20\n",
      "30/30 [==============================] - 0s 16ms/step - loss: 0.2345 - accuracy: 0.9183 - val_loss: 0.2806 - val_accuracy: 0.8909\n",
      "Epoch 9/20\n",
      "30/30 [==============================] - 0s 16ms/step - loss: 0.2118 - accuracy: 0.9238 - val_loss: 0.2868 - val_accuracy: 0.8890\n",
      "Epoch 10/20\n",
      "30/30 [==============================] - 0s 16ms/step - loss: 0.1882 - accuracy: 0.9315 - val_loss: 0.2961 - val_accuracy: 0.8888\n",
      "Epoch 11/20\n",
      "30/30 [==============================] - 0s 16ms/step - loss: 0.1745 - accuracy: 0.9385 - val_loss: 0.3313 - val_accuracy: 0.8841\n",
      "Epoch 12/20\n",
      "30/30 [==============================] - 0s 16ms/step - loss: 0.1557 - accuracy: 0.9429 - val_loss: 0.3389 - val_accuracy: 0.8873\n",
      "Epoch 13/20\n",
      "30/30 [==============================] - 0s 16ms/step - loss: 0.1446 - accuracy: 0.9488 - val_loss: 0.3469 - val_accuracy: 0.8860\n",
      "Epoch 14/20\n",
      "30/30 [==============================] - 0s 16ms/step - loss: 0.1339 - accuracy: 0.9508 - val_loss: 0.3802 - val_accuracy: 0.8858\n",
      "Epoch 15/20\n",
      "30/30 [==============================] - 0s 16ms/step - loss: 0.1223 - accuracy: 0.9557 - val_loss: 0.3957 - val_accuracy: 0.8851\n",
      "Epoch 16/20\n",
      "30/30 [==============================] - 0s 16ms/step - loss: 0.1181 - accuracy: 0.9593 - val_loss: 0.4190 - val_accuracy: 0.8842\n",
      "Epoch 17/20\n",
      "30/30 [==============================] - 0s 16ms/step - loss: 0.1043 - accuracy: 0.9639 - val_loss: 0.4301 - val_accuracy: 0.8833\n",
      "Epoch 18/20\n",
      "30/30 [==============================] - 0s 16ms/step - loss: 0.0986 - accuracy: 0.9658 - val_loss: 0.4457 - val_accuracy: 0.8841\n",
      "Epoch 19/20\n",
      "30/30 [==============================] - 0s 16ms/step - loss: 0.0927 - accuracy: 0.9663 - val_loss: 0.4858 - val_accuracy: 0.8831\n",
      "Epoch 20/20\n",
      "30/30 [==============================] - 0s 15ms/step - loss: 0.0863 - accuracy: 0.9695 - val_loss: 0.5434 - val_accuracy: 0.8852\n"
     ]
    }
   ],
   "source": [
    "model = keras.Sequential([\n",
    "    layers.Dense(16, activation=\"relu\"),\n",
    "    layers.Dropout(0.5),\n",
    "    layers.Dense(16, activation=\"relu\"),\n",
    "    layers.Dropout(0.5),\n",
    "    layers.Dense(1, activation=\"sigmoid\")\n",
    "])\n",
    "model.compile(optimizer=\"rmsprop\",\n",
    "              loss=\"binary_crossentropy\",\n",
    "              metrics=[\"accuracy\"])\n",
    "history_dropout = model.fit(\n",
    "    train_data, train_labels,\n",
    "    epochs=20, batch_size=512, validation_split=0.4)"
   ]
  },
  {
   "cell_type": "markdown",
   "metadata": {
    "colab_type": "text"
   },
   "source": [
    "## Summary"
   ]
  }
 ],
 "metadata": {
  "colab": {
   "collapsed_sections": [],
   "name": "chapter05_fundamentals-of-ml.i",
   "private_outputs": false,
   "provenance": [],
   "toc_visible": true
  },
  "kernelspec": {
   "display_name": "Python 3 (ipykernel)",
   "language": "python",
   "name": "python3"
  },
  "language_info": {
   "codemirror_mode": {
    "name": "ipython",
    "version": 3
   },
   "file_extension": ".py",
   "mimetype": "text/x-python",
   "name": "python",
   "nbconvert_exporter": "python",
   "pygments_lexer": "ipython3",
   "version": "3.10.11"
  }
 },
 "nbformat": 4,
 "nbformat_minor": 1
}
